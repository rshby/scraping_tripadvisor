{
 "cells": [
  {
   "cell_type": "code",
   "execution_count": 2,
   "metadata": {},
   "outputs": [],
   "source": [
    "import pandas as pd\n",
    "import numpy as np\n",
    "import matplotlib.pyplot as plt\n",
    "import seaborn as sns\n",
    "sns.set(context=\"talk\")"
   ]
  },
  {
   "cell_type": "code",
   "execution_count": 20,
   "metadata": {},
   "outputs": [],
   "source": [
    "df = pd.read_csv(\"hotel_pegi.csv\", encoding='iso-8859-1')\n",
    "df[\"alamat_hotel\"] = df[\"alamat_hotel\"].str.replace('<span itemprop=\"address\">', \"\")\n",
    "df[\"alamat_hotel\"] = df[\"alamat_hotel\"].str.replace(\"</span>\", \"\")\n",
    "df.drop(0, axis=\"rows\", inplace=True)\n",
    "df = df.reset_index(drop=True)"
   ]
  },
  {
   "cell_type": "code",
   "execution_count": 21,
   "metadata": {},
   "outputs": [
    {
     "data": {
      "text/html": [
       "<div>\n",
       "<style scoped>\n",
       "    .dataframe tbody tr th:only-of-type {\n",
       "        vertical-align: middle;\n",
       "    }\n",
       "\n",
       "    .dataframe tbody tr th {\n",
       "        vertical-align: top;\n",
       "    }\n",
       "\n",
       "    .dataframe thead th {\n",
       "        text-align: right;\n",
       "    }\n",
       "</style>\n",
       "<table border=\"1\" class=\"dataframe\">\n",
       "  <thead>\n",
       "    <tr style=\"text-align: right;\">\n",
       "      <th></th>\n",
       "      <th>nama_hotel</th>\n",
       "      <th>alamat_hotel</th>\n",
       "      <th>jumlah_kamar</th>\n",
       "    </tr>\n",
       "  </thead>\n",
       "  <tbody>\n",
       "    <tr>\n",
       "      <th>0</th>\n",
       "      <td>Hotel Neo Malioboro by ASTON</td>\n",
       "      <td>Jl. Pasar Kembang No.21, Yogyakarta, Indonesia</td>\n",
       "      <td>12</td>\n",
       "    </tr>\n",
       "    <tr>\n",
       "      <th>1</th>\n",
       "      <td>Harper Malioboro Yogyakarta by ASTON</td>\n",
       "      <td>Jl. Mangkubumi No.52, Yogyakarta, Indonesia</td>\n",
       "      <td>8</td>\n",
       "    </tr>\n",
       "    <tr>\n",
       "      <th>2</th>\n",
       "      <td>Best City Hotel</td>\n",
       "      <td>Jl. Tentara Pelajar No. 44, Jetis, Yogyakarta,...</td>\n",
       "      <td>8</td>\n",
       "    </tr>\n",
       "    <tr>\n",
       "      <th>3</th>\n",
       "      <td>Grand Sarila Yogyakarta</td>\n",
       "      <td>Jl. Affandi No. 3, Condong Catur, Yogyakarta 5...</td>\n",
       "      <td>4</td>\n",
       "    </tr>\n",
       "    <tr>\n",
       "      <th>4</th>\n",
       "      <td>favehotel Malioboro Yogyakarta</td>\n",
       "      <td>Jl. I Dewa Nyoman Oka No.30, Gondokusuman, Yog...</td>\n",
       "      <td>5</td>\n",
       "    </tr>\n",
       "    <tr>\n",
       "      <th>...</th>\n",
       "      <td>...</td>\n",
       "      <td>...</td>\n",
       "      <td>...</td>\n",
       "    </tr>\n",
       "    <tr>\n",
       "      <th>1171</th>\n",
       "      <td>Kranggan96</td>\n",
       "      <td>Jalan Kranggan No 96, Cokrodiningratan</td>\n",
       "      <td>3</td>\n",
       "    </tr>\n",
       "    <tr>\n",
       "      <th>1172</th>\n",
       "      <td>V Apartment Jogja</td>\n",
       "      <td>Jalan Amarto No 1 , Kledokan, Caturtunggal, Depok</td>\n",
       "      <td>2</td>\n",
       "    </tr>\n",
       "    <tr>\n",
       "      <th>1173</th>\n",
       "      <td>Lorong Homestay</td>\n",
       "      <td>Jalan Nitiprayan RT.01, Dukuh 3, Jeblok, Tirto...</td>\n",
       "      <td>2</td>\n",
       "    </tr>\n",
       "    <tr>\n",
       "      <th>1174</th>\n",
       "      <td>Kamala House</td>\n",
       "      <td>Jl. Tambak, Kasihan, Bantul, D.I.Yogyakarta 55...</td>\n",
       "      <td>3</td>\n",
       "    </tr>\n",
       "    <tr>\n",
       "      <th>1175</th>\n",
       "      <td>Griya Narayana Minggiran - 2 Bedrooms</td>\n",
       "      <td>Perum Griya Mandiri II No. B2, Mantrijeron</td>\n",
       "      <td>2</td>\n",
       "    </tr>\n",
       "  </tbody>\n",
       "</table>\n",
       "<p>1176 rows × 3 columns</p>\n",
       "</div>"
      ],
      "text/plain": [
       "                                 nama_hotel  \\\n",
       "0              Hotel Neo Malioboro by ASTON   \n",
       "1      Harper Malioboro Yogyakarta by ASTON   \n",
       "2                           Best City Hotel   \n",
       "3                   Grand Sarila Yogyakarta   \n",
       "4            favehotel Malioboro Yogyakarta   \n",
       "...                                     ...   \n",
       "1171                             Kranggan96   \n",
       "1172                      V Apartment Jogja   \n",
       "1173                        Lorong Homestay   \n",
       "1174                           Kamala House   \n",
       "1175  Griya Narayana Minggiran - 2 Bedrooms   \n",
       "\n",
       "                                           alamat_hotel  jumlah_kamar  \n",
       "0        Jl. Pasar Kembang No.21, Yogyakarta, Indonesia            12  \n",
       "1           Jl. Mangkubumi No.52, Yogyakarta, Indonesia             8  \n",
       "2     Jl. Tentara Pelajar No. 44, Jetis, Yogyakarta,...             8  \n",
       "3     Jl. Affandi No. 3, Condong Catur, Yogyakarta 5...             4  \n",
       "4     Jl. I Dewa Nyoman Oka No.30, Gondokusuman, Yog...             5  \n",
       "...                                                 ...           ...  \n",
       "1171             Jalan Kranggan No 96, Cokrodiningratan             3  \n",
       "1172  Jalan Amarto No 1 , Kledokan, Caturtunggal, Depok             2  \n",
       "1173  Jalan Nitiprayan RT.01, Dukuh 3, Jeblok, Tirto...             2  \n",
       "1174  Jl. Tambak, Kasihan, Bantul, D.I.Yogyakarta 55...             3  \n",
       "1175         Perum Griya Mandiri II No. B2, Mantrijeron             2  \n",
       "\n",
       "[1176 rows x 3 columns]"
      ]
     },
     "execution_count": 21,
     "metadata": {},
     "output_type": "execute_result"
    }
   ],
   "source": [
    "df"
   ]
  },
  {
   "cell_type": "code",
   "execution_count": 22,
   "metadata": {},
   "outputs": [
    {
     "data": {
      "text/plain": [
       "<matplotlib.axes._subplots.AxesSubplot at 0x1fade62cec8>"
      ]
     },
     "execution_count": 22,
     "metadata": {},
     "output_type": "execute_result"
    },
    {
     "data": {
      "image/png": "[encoded data removed]",
      "text/plain": [
       "<Figure size 432x288 with 1 Axes>"
      ]
     },
     "metadata": {},
     "output_type": "display_data"
    }
   ],
   "source": [
    "sns.countplot(df[\"jumlah_kamar\"])"
   ]
  },
  {
   "cell_type": "code",
   "execution_count": 23,
   "metadata": {},
   "outputs": [
    {
     "data": {
      "text/plain": [
       "count    1176.000000\n",
       "mean        6.426871\n",
       "std         6.000405\n",
       "min         1.000000\n",
       "25%         3.000000\n",
       "50%         5.000000\n",
       "75%         9.000000\n",
       "max        65.000000\n",
       "Name: jumlah_kamar, dtype: float64"
      ]
     },
     "execution_count": 23,
     "metadata": {},
     "output_type": "execute_result"
    }
   ],
   "source": [
    "df[\"jumlah_kamar\"].describe()"
   ]
  },
  {
   "cell_type": "code",
   "execution_count": null,
   "metadata": {},
   "outputs": [],
   "source": []
  }
 ],
 "metadata": {
  "kernelspec": {
   "display_name": "Python 3",
   "language": "python",
   "name": "python3"
  },
  "language_info": {
   "codemirror_mode": {
    "name": "ipython",
    "version": 3
   },
   "file_extension": ".py",
   "mimetype": "text/x-python",
   "name": "python",
   "nbconvert_exporter": "python",
   "pygments_lexer": "ipython3",
   "version": "3.7.6"
  }
 },
 "nbformat": 4,
 "nbformat_minor": 4
}
