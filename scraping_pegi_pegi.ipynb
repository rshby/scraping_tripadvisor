{
 "cells": [
  {
   "cell_type": "markdown",
   "metadata": {},
   "source": [
    "# Import Library yang digunakan"
   ]
  },
  {
   "cell_type": "code",
   "execution_count": 1,
   "metadata": {},
   "outputs": [],
   "source": [
    "import requests  # import library untuk scraping\n",
    "from bs4 import BeautifulSoup  # import library untuk scraping\n",
    "import csv  # import library untuk menyimpan data ke csv\n",
    "from requests.api import request  # import library yang diperlukan"
   ]
  },
  {
   "cell_type": "markdown",
   "metadata": {},
   "source": [
    "kemudian di bawah ini buat list kosong yang digunakan untuk menampung hasil scraping, kita beri nama `data_pegi`"
   ]
  },
  {
   "cell_type": "code",
   "execution_count": 2,
   "metadata": {},
   "outputs": [],
   "source": [
    "data_pegi = []  # buat variabel untuk menampung data hasil scraping"
   ]
  },
  {
   "cell_type": "markdown",
   "metadata": {},
   "source": [
    "kemudian di bawah ini adalah syntax untuk melakukan scraping hotel di pegi-pegi"
   ]
  },
  {
   "cell_type": "code",
   "execution_count": null,
   "metadata": {},
   "outputs": [],
   "source": [
    "for i in range(1, 39):\n",
    "    url = \"https://www.pegipegi.com/hotel/jogja/\" +str(i)+\".html\"  # url masing-masing pages\n",
    "    req = requests.get(url)\n",
    "    soup = BeautifulSoup(req.text, \"html.parser\")\n",
    "    link_hotel = soup.findAll(\"a\", {\"itemprop\": \"url\"}, href=True)  # ambil link masing-masing hotel\n",
    "\n",
    "    for hotel in link_hotel:  # scrap data masing-masing hotel\n",
    "        url_hotel = hotel[\"href\"]  # url hotel adalah href dari hasil scraping elemen link_hotel\n",
    "        req_hotel = requests.get(url_hotel)\n",
    "        soup1 = BeautifulSoup(req_hotel.text, \"html.parser\")\n",
    "        nama_hotel = soup1.find(\"h1\", {\"itemprop\": \"name\"}).text.strip().replace(\"/n\", \"\")  # ambil nama hotel\n",
    "        try:\n",
    "            # ambil alamat hotel\n",
    "            alamat = soup1.find(\"span\", {\"itemprop\": \"address\"})\n",
    "        except:\n",
    "            alamat = \"\"  # apabila alamat hotel tidak ditemukan\n",
    "        try:\n",
    "            # ambil elemen penanda kamar yang tersedia\n",
    "            kamar = soup1.findAll(\n",
    "                \"img\", {\"class\": \"slideShowRoom gm-img-center\"})\n",
    "        except:\n",
    "            kamar = \"0\"  # apabila kamar hotel tidak ditemukan\n",
    "        jumlh_kamar = 1\n",
    "        for item in kamar:\n",
    "            jumlh_kamar += 1  # hitung semua jumlah kamar yang ada\n",
    "        # masukkan data hasil scraping ke variabel data_pegi\n",
    "        data_pegi.append([nama_hotel, alamat, jumlh_kamar])"
   ]
  },
  {
   "cell_type": "markdown",
   "metadata": {},
   "source": [
    "kemudian setelah kita melakukan scraping dengan menggunakan syntax di atas, kita masukkan hasil scraping kita ke dalam file csv.<br>\n",
    "syntax untuk memasukkan data ke dalam file csv dapat dilihat di bawah ini"
   ]
  },
  {
   "cell_type": "code",
   "execution_count": null,
   "metadata": {},
   "outputs": [],
   "source": [
    "# siapkan nama kolom untuk data csv\n",
    "kolom = [\"nama_hotel\", \"alamat_hotel\", \"jumlah_kamar\"]\n",
    "writer = csv.writer(open(\"hotel_pegi.csv\", \"w\", newline=\"\")\n",
    "                    )  # buat file csv dan nama file\n",
    "writer.writerow(kolom)\n",
    "\n",
    "for d in data_pegi:\n",
    "    writer.writerow(d)  # masukkan data ke file csv yang sudah dibuat"
   ]
  }
 ],
 "metadata": {
  "kernelspec": {
   "display_name": "Python 3",
   "language": "python",
   "name": "python3"
  },
  "language_info": {
   "codemirror_mode": {
    "name": "ipython",
    "version": 3
   },
   "file_extension": ".py",
   "mimetype": "text/x-python",
   "name": "python",
   "nbconvert_exporter": "python",
   "pygments_lexer": "ipython3",
   "version": "3.7.6"
  }
 },
 "nbformat": 4,
 "nbformat_minor": 4
}
