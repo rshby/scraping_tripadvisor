{
 "cells": [
  {
   "cell_type": "markdown",
   "metadata": {},
   "source": [
    "# import beberapa library yang diperlukan"
   ]
  },
  {
   "cell_type": "code",
   "execution_count": 1,
   "metadata": {},
   "outputs": [],
   "source": [
    "import pandas as pd\n",
    "import numpy as np\n",
    "import matplotlib.pyplot as plt\n",
    "import seaborn as sns\n",
    "sns.set(context=\"talk\")"
   ]
  },
  {
   "cell_type": "markdown",
   "metadata": {},
   "source": [
    "# Import dataset dan lakukan preprocessing sederhana untuk merapikan data"
   ]
  },
  {
   "cell_type": "code",
   "execution_count": 2,
   "metadata": {},
   "outputs": [],
   "source": [
    "df = pd.read_csv(\"hotel_pegi_2.csv\", encoding='iso-8859-1')  #import dataset\n",
    "\n",
    "df[\"alamat_hotel\"] = df[\"alamat_hotel\"].str.replace('<span itemprop=\"address\">', \"\")  #bersihkan data alamat hotel\n",
    "\n",
    "df[\"alamat_hotel\"] = df[\"alamat_hotel\"].str.replace(\"</span>\", \"\")  #bersihkan data alamat hotel\n",
    "\n",
    "df.drop(0, axis=\"rows\", inplace=True)  #hapus data baris ke 0 karena data ke 0 tidak diperlukan\n",
    "\n",
    "df = df.reset_index(drop=True)  #ulangi index setelah data pertama dihapus"
   ]
  },
  {
   "cell_type": "markdown",
   "metadata": {},
   "source": [
    "# Tampilkan Data df"
   ]
  },
  {
   "cell_type": "code",
   "execution_count": 3,
   "metadata": {
    "scrolled": false
   },
   "outputs": [
    {
     "data": {
      "text/html": [
       "<div>\n",
       "<style scoped>\n",
       "    .dataframe tbody tr th:only-of-type {\n",
       "        vertical-align: middle;\n",
       "    }\n",
       "\n",
       "    .dataframe tbody tr th {\n",
       "        vertical-align: top;\n",
       "    }\n",
       "\n",
       "    .dataframe thead th {\n",
       "        text-align: right;\n",
       "    }\n",
       "</style>\n",
       "<table border=\"1\" class=\"dataframe\">\n",
       "  <thead>\n",
       "    <tr style=\"text-align: right;\">\n",
       "      <th></th>\n",
       "      <th>nama_hotel</th>\n",
       "      <th>alamat_hotel</th>\n",
       "      <th>jenis_kamar</th>\n",
       "      <th>total_kamar_tersedia</th>\n",
       "    </tr>\n",
       "  </thead>\n",
       "  <tbody>\n",
       "    <tr>\n",
       "      <th>0</th>\n",
       "      <td>de Laxston Hotel Yogyakarta</td>\n",
       "      <td>Jl. Urip Sumaharjo No. 139 A, Gondokusuman, Yo...</td>\n",
       "      <td>21</td>\n",
       "      <td>84</td>\n",
       "    </tr>\n",
       "    <tr>\n",
       "      <th>1</th>\n",
       "      <td>Forriz Hotel Yogyakarta</td>\n",
       "      <td>Jl. HOS Cokroaminoto No.16, Yogyakarta, Indonesia</td>\n",
       "      <td>7</td>\n",
       "      <td>14</td>\n",
       "    </tr>\n",
       "    <tr>\n",
       "      <th>2</th>\n",
       "      <td>The Manohara Hotel Yogyakarta</td>\n",
       "      <td>Jalan Affandi No.35, Gejayan, Sleman, Daerah I...</td>\n",
       "      <td>14</td>\n",
       "      <td>14</td>\n",
       "    </tr>\n",
       "    <tr>\n",
       "      <th>3</th>\n",
       "      <td>Grand Sarila Yogyakarta</td>\n",
       "      <td>Jl. Affandi No. 3, Condong Catur, Yogyakarta 5...</td>\n",
       "      <td>3</td>\n",
       "      <td>3</td>\n",
       "    </tr>\n",
       "    <tr>\n",
       "      <th>4</th>\n",
       "      <td>The Arizon Hotel @ Malioboro</td>\n",
       "      <td>Jl. Jlagran No. 6, Pringgokusuman, Gedong Teng...</td>\n",
       "      <td>6</td>\n",
       "      <td>6</td>\n",
       "    </tr>\n",
       "    <tr>\n",
       "      <th>...</th>\n",
       "      <td>...</td>\n",
       "      <td>...</td>\n",
       "      <td>...</td>\n",
       "      <td>...</td>\n",
       "    </tr>\n",
       "    <tr>\n",
       "      <th>1172</th>\n",
       "      <td>1 Bedroom Cottage in Pantai Kukup at Winahyu R...</td>\n",
       "      <td>Pantai Kukup, Wanosari , Gunung Kidul, Des.Tan...</td>\n",
       "      <td>1</td>\n",
       "      <td>2</td>\n",
       "    </tr>\n",
       "    <tr>\n",
       "      <th>1173</th>\n",
       "      <td>Mulia Kencana Hotel Jogja</td>\n",
       "      <td>Jalan Pasar Kembang No.15, Sosromenduran, Mali...</td>\n",
       "      <td>3</td>\n",
       "      <td>6</td>\n",
       "    </tr>\n",
       "    <tr>\n",
       "      <th>1174</th>\n",
       "      <td>House of BR</td>\n",
       "      <td>Jalan Perumnas Seturan Mundu No. A2-A3 Jogjaka...</td>\n",
       "      <td>1</td>\n",
       "      <td>2</td>\n",
       "    </tr>\n",
       "    <tr>\n",
       "      <th>1175</th>\n",
       "      <td>QQ House</td>\n",
       "      <td>Jl. Kresna Gg Buntu Purwomartani (belakang Kom...</td>\n",
       "      <td>1</td>\n",
       "      <td>2</td>\n",
       "    </tr>\n",
       "    <tr>\n",
       "      <th>1176</th>\n",
       "      <td>Homestay Rusmiyati KII</td>\n",
       "      <td>Kalisuci, Jetis Wetan Pacarejo, Semanu, Gunung...</td>\n",
       "      <td>1</td>\n",
       "      <td>2</td>\n",
       "    </tr>\n",
       "  </tbody>\n",
       "</table>\n",
       "<p>1177 rows × 4 columns</p>\n",
       "</div>"
      ],
      "text/plain": [
       "                                             nama_hotel  \\\n",
       "0                           de Laxston Hotel Yogyakarta   \n",
       "1                               Forriz Hotel Yogyakarta   \n",
       "2                         The Manohara Hotel Yogyakarta   \n",
       "3                               Grand Sarila Yogyakarta   \n",
       "4                          The Arizon Hotel @ Malioboro   \n",
       "...                                                 ...   \n",
       "1172  1 Bedroom Cottage in Pantai Kukup at Winahyu R...   \n",
       "1173                          Mulia Kencana Hotel Jogja   \n",
       "1174                                        House of BR   \n",
       "1175                                           QQ House   \n",
       "1176                             Homestay Rusmiyati KII   \n",
       "\n",
       "                                           alamat_hotel  jenis_kamar  \\\n",
       "0     Jl. Urip Sumaharjo No. 139 A, Gondokusuman, Yo...           21   \n",
       "1     Jl. HOS Cokroaminoto No.16, Yogyakarta, Indonesia            7   \n",
       "2     Jalan Affandi No.35, Gejayan, Sleman, Daerah I...           14   \n",
       "3     Jl. Affandi No. 3, Condong Catur, Yogyakarta 5...            3   \n",
       "4     Jl. Jlagran No. 6, Pringgokusuman, Gedong Teng...            6   \n",
       "...                                                 ...          ...   \n",
       "1172  Pantai Kukup, Wanosari , Gunung Kidul, Des.Tan...            1   \n",
       "1173  Jalan Pasar Kembang No.15, Sosromenduran, Mali...            3   \n",
       "1174  Jalan Perumnas Seturan Mundu No. A2-A3 Jogjaka...            1   \n",
       "1175  Jl. Kresna Gg Buntu Purwomartani (belakang Kom...            1   \n",
       "1176  Kalisuci, Jetis Wetan Pacarejo, Semanu, Gunung...            1   \n",
       "\n",
       "      total_kamar_tersedia  \n",
       "0                       84  \n",
       "1                       14  \n",
       "2                       14  \n",
       "3                        3  \n",
       "4                        6  \n",
       "...                    ...  \n",
       "1172                     2  \n",
       "1173                     6  \n",
       "1174                     2  \n",
       "1175                     2  \n",
       "1176                     2  \n",
       "\n",
       "[1177 rows x 4 columns]"
      ]
     },
     "execution_count": 3,
     "metadata": {},
     "output_type": "execute_result"
    }
   ],
   "source": [
    "df"
   ]
  },
  {
   "cell_type": "markdown",
   "metadata": {},
   "source": [
    "# Informasi Jumlah Kamar dan banyaknya Hotel"
   ]
  },
  {
   "cell_type": "code",
   "execution_count": 8,
   "metadata": {},
   "outputs": [
    {
     "data": {
      "text/plain": [
       "2      179\n",
       "4      146\n",
       "8      132\n",
       "6      128\n",
       "12      89\n",
       "3       70\n",
       "0       60\n",
       "16      48\n",
       "1       44\n",
       "24      35\n",
       "9       34\n",
       "10      24\n",
       "48      18\n",
       "18      17\n",
       "32      16\n",
       "20      14\n",
       "5       12\n",
       "15      11\n",
       "36      11\n",
       "14       9\n",
       "7        8\n",
       "27       7\n",
       "40       6\n",
       "56       4\n",
       "17       4\n",
       "28       4\n",
       "21       4\n",
       "11       4\n",
       "23       3\n",
       "26       3\n",
       "90       3\n",
       "84       3\n",
       "52       2\n",
       "60       2\n",
       "30       2\n",
       "96       2\n",
       "42       2\n",
       "72       2\n",
       "64       2\n",
       "112      1\n",
       "80       1\n",
       "68       1\n",
       "25       1\n",
       "128      1\n",
       "45       1\n",
       "44       1\n",
       "13       1\n",
       "41       1\n",
       "38       1\n",
       "33       1\n",
       "19       1\n",
       "192      1\n",
       "Name: total_kamar_tersedia, dtype: int64"
      ]
     },
     "execution_count": 8,
     "metadata": {},
     "output_type": "execute_result"
    }
   ],
   "source": [
    "df[\"total_kamar_tersedia\"].value_counts()"
   ]
  },
  {
   "cell_type": "markdown",
   "metadata": {},
   "source": [
    "# Plotting Sederhana"
   ]
  },
  {
   "cell_type": "code",
   "execution_count": 10,
   "metadata": {},
   "outputs": [
    {
     "data": {
      "image/png": "[encoded data removed]",
      "text/plain": [
       "<Figure size 1080x504 with 1 Axes>"
      ]
     },
     "metadata": {},
     "output_type": "display_data"
    }
   ],
   "source": [
    "fig, ax = plt.subplots(constrained_layout=True, figsize=(15, 7))\n",
    "fig.suptitle(\"Data Perbandingan Jumlah Kamar\")\n",
    "_ = sns.countplot(data=df, x=\"total_kamar_tersedia\")\n",
    "_ = ax.set_ylabel(\"jumlah hotel\")\n",
    "_ = ax.set_xlabel(\"jumlah kamar\")"
   ]
  },
  {
   "cell_type": "markdown",
   "metadata": {},
   "source": [
    "# Informasi dari kolom `jumlah_kamar`"
   ]
  },
  {
   "cell_type": "code",
   "execution_count": 11,
   "metadata": {},
   "outputs": [
    {
     "data": {
      "text/plain": [
       "count    1177.000000\n",
       "mean        5.533560\n",
       "std         6.077653\n",
       "min         0.000000\n",
       "25%         2.000000\n",
       "50%         4.000000\n",
       "75%         8.000000\n",
       "max        64.000000\n",
       "Name: jenis_kamar, dtype: float64"
      ]
     },
     "execution_count": 11,
     "metadata": {},
     "output_type": "execute_result"
    }
   ],
   "source": [
    "df[\"jenis_kamar\"].describe()"
   ]
  },
  {
   "cell_type": "code",
   "execution_count": 12,
   "metadata": {},
   "outputs": [
    {
     "data": {
      "text/plain": [
       "count    1177.000000\n",
       "mean       10.456245\n",
       "std        14.598073\n",
       "min         0.000000\n",
       "25%         3.000000\n",
       "50%         6.000000\n",
       "75%        12.000000\n",
       "max       192.000000\n",
       "Name: total_kamar_tersedia, dtype: float64"
      ]
     },
     "execution_count": 12,
     "metadata": {},
     "output_type": "execute_result"
    }
   ],
   "source": [
    "df[\"total_kamar_tersedia\"].describe()"
   ]
  },
  {
   "cell_type": "code",
   "execution_count": null,
   "metadata": {},
   "outputs": [],
   "source": []
  }
 ],
 "metadata": {
  "kernelspec": {
   "display_name": "Python 3",
   "language": "python",
   "name": "python3"
  },
  "language_info": {
   "codemirror_mode": {
    "name": "ipython",
    "version": 3
   },
   "file_extension": ".py",
   "mimetype": "text/x-python",
   "name": "python",
   "nbconvert_exporter": "python",
   "pygments_lexer": "ipython3",
   "version": "3.7.6"
  }
 },
 "nbformat": 4,
 "nbformat_minor": 4
}
